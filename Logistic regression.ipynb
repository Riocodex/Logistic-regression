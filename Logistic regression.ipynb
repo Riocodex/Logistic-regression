##in this demo, we will traain our model to recognize digits in images

from sklearn.datasets import load_digits
from sklearn.model_selection import train_test_split
import numpy as np

import matplotlib.pyplot as plt
import seaborn as sns
from sklearn import metrics
%matplotlib inline
digits = load_digits()

print("Image data shape", digits.data.shape)
print("Label Data Shape", digits.target.shape)

import numpy as np
import matplotlib.pyplot as plt

plt.figure(figsize =(20,4))
for index, (image, label) in enumerate (zip(digits.data[0:5], digits.target[0:5])):
    plt.subplot(1, 5, index + 1)
    plt.imshow(np.reshape(image,(8,8)),cmap=plt.cm.gray)
    plt.title('Training: %i\n'% label, fontsize = 20)

from sklearn.model_selection import  train_test_split
x_train,x_test,y_train,y_test = train_test_split(digits.data, digits.target, test_size = 0.23, random_state=2)

print(x_train.shape)

print(y_train.shape)

print(x_test.shape)

print(y_test.shape)

from sklearn.linear_model import LogisticRegression

logisticRegr = LogisticRegression()
logisticRegr.fit(x_train,y_train)

#Returns a numpy array
#predict for one observation(image)
print(logisticRegr.predict(x_test[0].reshape(1,-1)))

logisticRegr.predict(x_test[0:10])

predictions = logisticRegr.predict(x_test)

score = logisticRegr.score(x_test, y_test)##testing accuracy
print(score)

import matplotlib.pyplot as plt
import seaborn as sns
from sklearn import metrics

cm = metrics.confusion_matrix(y_test, predictions)

#visualizing what it picked by using thhe confusion matrix
cm = metrics.confusion_matrix(y_test, predictions)
#y_test is the labeled number and predictions is whaat the system predictied
print(cm)
#to get accuracy, add the numbers in the diagonal and divide by the total number of the observations

#showing the confusion matrix in a better way
plt.figure(figsize =(9,9))
sns.heatmap(cm, annot =True, fmt=".3f", linewidth =.5, square=True, cmap='Blues_r');
plt.ylabel("Actual Label")
plt.xlabel('Predicted Label')
all_sample_title = 'Accuracy Score:{0}'.format(score)
plt.title(all_sample_title, size=15)

index = 0
classifiedIndex = []
for predict,actual in zip(predictions,y_test):
    if(predict==actual):
        classifiedIndex.append(index)
    index +=1
plt.figure(figsize = (20,3))
for plotIndex, wrong in enumerate (classifiedIndex[0:4]):
    plt.subplot(1,4, plotIndex +1)
    plt.imshow(np.reshape(x_test[wrong],(8,8)),cmap=plt.cm.gray)
    plt.title("Predicted: {}, Actual: {}".format(predictions[wrong],y_test[wrong]),fontsize=20)

#showing all the numbers and comparing
index = 0
classifiedIndex = []
for predict, actual in zip(predictions, y_test):
    if predict == actual:
        classifiedIndex.append(index)
    index += 1

plt.figure(figsize=(20, 3))
for plotIndex, wrong in enumerate(classifiedIndex[0:10]):
    plt.subplot(1, 10, plotIndex + 1)
    plt.imshow(np.reshape(x_test[wrong], (8, 8)), cmap=plt.cm.gray)
    plt.title("Actual: {}".format(y_test[wrong]), fontsize=15)

plt.show()













